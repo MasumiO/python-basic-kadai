{
  "nbformat": 4,
  "nbformat_minor": 0,
  "metadata": {
    "colab": {
      "provenance": []
    },
    "kernelspec": {
      "name": "python3",
      "display_name": "Python 3"
    },
    "language_info": {
      "name": "python"
    }
  },
  "cells": [
    {
      "cell_type": "code",
      "execution_count": 10,
      "metadata": {
        "id": "7qAxsG3JmeXs"
      },
      "outputs": [],
      "source": [
        "class Human:\n",
        "  def __init__(self, name, age):\n",
        "    self.name = name\n",
        "    self.age = age\n",
        "  def check_adult(self):\n",
        "    if self.age >= 20:\n",
        "      print(f\"{self.name}は成人です\")\n",
        "    else:\n",
        "      print(f\"{self.name}は成人ではありません\")"
      ]
    },
    {
      "cell_type": "code",
      "source": [
        "humans = [Human(\"Hanako\", 15)]"
      ],
      "metadata": {
        "id": "9vPi-nkqnBqX"
      },
      "execution_count": 11,
      "outputs": []
    },
    {
      "cell_type": "code",
      "source": [
        "humans.append(Human(\"Taro\", 20))\n",
        "humans.append(Human(\"Mizuho\", 17))\n",
        "humans.append(Human(\"Kotaro\", 35))\n",
        "humans.append(Human(\"Daiske\", 60))"
      ],
      "metadata": {
        "id": "KnK-3EY8nRfZ"
      },
      "execution_count": 12,
      "outputs": []
    },
    {
      "cell_type": "code",
      "source": [
        "for human in humans:\n",
        "  human.check_adult()"
      ],
      "metadata": {
        "colab": {
          "base_uri": "https://localhost:8080/"
        },
        "id": "Nwt6zCfMn1J8",
        "outputId": "ad1972f4-57a3-494f-bff6-40e68f19ffda"
      },
      "execution_count": 13,
      "outputs": [
        {
          "output_type": "stream",
          "name": "stdout",
          "text": [
            "Hanakoは成人ではありません\n",
            "Taroは成人です\n",
            "Mizuhoは成人ではありません\n",
            "Kotaroは成人です\n",
            "Daiskeは成人です\n"
          ]
        }
      ]
    }
  ]
}