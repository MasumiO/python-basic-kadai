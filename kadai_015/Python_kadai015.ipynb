{
  "nbformat": 4,
  "nbformat_minor": 0,
  "metadata": {
    "colab": {
      "provenance": []
    },
    "kernelspec": {
      "name": "python3",
      "display_name": "Python 3"
    },
    "language_info": {
      "name": "python"
    }
  },
  "cells": [
    {
      "cell_type": "code",
      "execution_count": 5,
      "metadata": {
        "id": "0j8TtlgHjnH4"
      },
      "outputs": [],
      "source": [
        "class Human:\n",
        "  def __init__(self, name, age):\n",
        "    self.name = name\n",
        "    self.age = age\n",
        "  def printinfo(self):\n",
        "    print(self.name)\n",
        "    print(self.age)"
      ]
    },
    {
      "cell_type": "code",
      "source": [
        "hanako = Human(\"hanako\", 26)"
      ],
      "metadata": {
        "id": "J8v3ik_wkWxZ"
      },
      "execution_count": 6,
      "outputs": []
    },
    {
      "cell_type": "code",
      "source": [
        "hanako.printinfo()"
      ],
      "metadata": {
        "colab": {
          "base_uri": "https://localhost:8080/"
        },
        "id": "1Pv632w0kqhH",
        "outputId": "aa879f59-d389-41fb-d958-f4cb7f53951b"
      },
      "execution_count": 7,
      "outputs": [
        {
          "output_type": "stream",
          "name": "stdout",
          "text": [
            "hanako\n",
            "26\n"
          ]
        }
      ]
    }
  ]
}