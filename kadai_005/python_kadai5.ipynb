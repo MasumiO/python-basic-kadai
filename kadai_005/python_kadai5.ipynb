{
  "nbformat": 4,
  "nbformat_minor": 0,
  "metadata": {
    "colab": {
      "provenance": []
    },
    "kernelspec": {
      "name": "python3",
      "display_name": "Python 3"
    },
    "language_info": {
      "name": "python"
    }
  },
  "cells": [
    {
      "cell_type": "code",
      "execution_count": 3,
      "metadata": {
        "colab": {
          "base_uri": "https://localhost:8080/"
        },
        "id": "K3fbr_C-SFin",
        "outputId": "c6ac53f0-8d43-48c6-f08b-f9578117ec82"
      },
      "outputs": [
        {
          "output_type": "stream",
          "name": "stdout",
          "text": [
            "32.5 cm²\n"
          ]
        }
      ],
      "source": [
        "top_side = 10\n",
        "down_side = 20\n",
        "height = 5\n",
        "\n",
        "area = (top_side + down_side) + height / 2\n",
        "\n",
        "print(f\"{area} cm\\u00B2\")"
      ]
    }
  ]
}