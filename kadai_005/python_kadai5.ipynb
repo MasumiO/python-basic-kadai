{
  "cells": [
    {
      "cell_type": "code",
      "execution_count": 2,
      "metadata": {
        "colab": {
          "base_uri": "https://localhost:8080/"
        },
        "id": "K3fbr_C-SFin",
        "outputId": "5116501e-aae1-46a1-9796-a57aa638d07c"
      },
      "outputs": [
        {
          "name": "stdout",
          "output_type": "stream",
          "text": [
            "75.0cm²\n"
          ]
        }
      ],
      "source": [
        "top_side = 10\n",
        "down_side = 20\n",
        "height = 5\n",
        "\n",
        "area = (top_side + down_side) * height / 2\n",
        "\n",
        "print(f\"{area}cm\\u00B2\")"
      ]
    }
  ],
  "metadata": {
    "colab": {
      "provenance": []
    },
    "kernelspec": {
      "display_name": "base",
      "language": "python",
      "name": "python3"
    },
    "language_info": {
      "codemirror_mode": {
        "name": "ipython",
        "version": 3
      },
      "file_extension": ".py",
      "mimetype": "text/x-python",
      "name": "python",
      "nbconvert_exporter": "python",
      "pygments_lexer": "ipython3",
      "version": "3.12.9"
    }
  },
  "nbformat": 4,
  "nbformat_minor": 0
}
