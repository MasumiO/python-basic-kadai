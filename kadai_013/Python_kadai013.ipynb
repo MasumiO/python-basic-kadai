{
  "nbformat": 4,
  "nbformat_minor": 0,
  "metadata": {
    "colab": {
      "provenance": []
    },
    "kernelspec": {
      "name": "python3",
      "display_name": "Python 3"
    },
    "language_info": {
      "name": "python"
    }
  },
  "cells": [
    {
      "cell_type": "code",
      "execution_count": 4,
      "metadata": {
        "id": "QiO5y2CRgrpm"
      },
      "outputs": [],
      "source": [
        "# 消費税を加えた計算結果を返す関数\n",
        "def calculate_total(price: int, tax_rate: int):\n",
        "  total_value = price * ( 1 + (tax_rate / 100) )\n",
        "  return total_value"
      ]
    },
    {
      "cell_type": "code",
      "source": [
        "calculate_total(110, 10)"
      ],
      "metadata": {
        "colab": {
          "base_uri": "https://localhost:8080/"
        },
        "id": "NBqeQvEShAHr",
        "outputId": "5c62a8bb-0bd2-4c08-b22f-b231e3323ab8"
      },
      "execution_count": 8,
      "outputs": [
        {
          "output_type": "execute_result",
          "data": {
            "text/plain": [
              "121.00000000000001"
            ]
          },
          "metadata": {},
          "execution_count": 8
        }
      ]
    },
    {
      "cell_type": "code",
      "source": [],
      "metadata": {
        "id": "gHwaG1Y5hbOO"
      },
      "execution_count": null,
      "outputs": []
    }
  ]
}