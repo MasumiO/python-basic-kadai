{
  "nbformat": 4,
  "nbformat_minor": 0,
  "metadata": {
    "colab": {
      "provenance": []
    },
    "kernelspec": {
      "name": "python3",
      "display_name": "Python 3"
    },
    "language_info": {
      "name": "python"
    }
  },
  "cells": [
    {
      "cell_type": "code",
      "execution_count": null,
      "metadata": {
        "id": "_u5VkN-jWmcv"
      },
      "outputs": [],
      "source": [
        "array = [\"月曜日は晴れです\",\n",
        "         \"火曜日は雨です\",\n",
        "         \"水曜日は晴れです\",\n",
        "         \"木曜日は晴れです\",\n",
        "         \"金曜日は曇りです\",\n",
        "         \"土曜日は曇りのち雨です\",\n",
        "         \"日曜日は雷雨です\"]"
      ]
    },
    {
      "cell_type": "code",
      "source": [
        "dictionary = {\"mon\": \"晴れ\",\n",
        "              \"tue\": \"雨\",\n",
        "              \"wed\": \"晴れ\",\n",
        "              \"thu\": \"晴れ\",\n",
        "              \"fri\": \"曇り\",\n",
        "              \"sat\": \"曇りのち雨\",\n",
        "              \"sun\": \"雷雨\"}"
      ],
      "metadata": {
        "id": "avIauJs2W9br"
      },
      "execution_count": null,
      "outputs": []
    },
    {
      "cell_type": "code",
      "source": [
        "print(array[2])  # リストから水曜日の天気予報を出力\n",
        "print(dictionary['wed'])  # ディクショナリから水曜日の天気予報を出力"
      ],
      "metadata": {
        "id": "g2FMnR3sb1al",
        "outputId": "d6ef7d29-9f0f-4800-a593-44054f7b032b",
        "colab": {
          "base_uri": "https://localhost:8080/"
        }
      },
      "execution_count": 7,
      "outputs": [
        {
          "output_type": "stream",
          "name": "stdout",
          "text": [
            "水曜日は晴れです\n",
            "晴れ\n"
          ]
        }
      ]
    }
  ]
}