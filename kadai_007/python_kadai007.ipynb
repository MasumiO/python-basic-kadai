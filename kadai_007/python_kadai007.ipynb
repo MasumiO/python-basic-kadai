{
  "nbformat": 4,
  "nbformat_minor": 0,
  "metadata": {
    "colab": {
      "provenance": []
    },
    "kernelspec": {
      "name": "python3",
      "display_name": "Python 3"
    },
    "language_info": {
      "name": "python"
    }
  },
  "cells": [
    {
      "cell_type": "code",
      "execution_count": 1,
      "metadata": {
        "id": "_u5VkN-jWmcv"
      },
      "outputs": [],
      "source": [
        "array = [\"月曜日は晴れです\",\n",
        "         \"火曜日は雨です\",\n",
        "         \"水曜日は晴れです\",\n",
        "         \"木曜日は晴れです\",\n",
        "         \"金曜日は曇りです\",\n",
        "         \"土曜日は曇りのち雨です\",\n",
        "         \"日曜日は雷雨です\"]"
      ]
    },
    {
      "cell_type": "code",
      "source": [
        "dictionary = {\"mon\": \"晴れ\",\n",
        "              \"tue\": \"雨\",\n",
        "              \"wed\": \"晴れ\",\n",
        "              \"thu\": \"晴れ\",\n",
        "              \"fri\": \"曇り\",\n",
        "              \"sat\": \"曇りのち雨\",\n",
        "              \"sun\": \"雷雨\"}"
      ],
      "metadata": {
        "id": "avIauJs2W9br"
      },
      "execution_count": 3,
      "outputs": []
    }
  ]
}